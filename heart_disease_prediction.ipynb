{
 "cells": [
  {
   "cell_type": "markdown",
   "id": "07eb6c50",
   "metadata": {},
   "source": [
    "# Predicting Heart Disease with Machine Learning\n",
    "\n",
    "Heart disease is one of the leading causes of death worldwide, claiming millions of lives each year. Doctors often rely on individual risk factors like cholesterol, blood pressure, or age when making diagnoses, but modern datasets allow us to combine multiple features and detect patterns that might not be obvious to a single physician.\n",
    "\n",
    "This project frames heart disease detection as a classification task. Using the UCI Heart Disease dataset, we test whether machine learning models can accurately predict whether a patient has heart disease. Beyond raw accuracy, we aim to understand which features matter most and how these models could help in early detection and prevention.\n",
    "\n"
   ]
  },
  {
   "cell_type": "markdown",
   "id": "78f44894",
   "metadata": {},
   "source": [
    "## 2. Introduce Dataset\n",
    "\n",
    "**Source**: UCI Heart Disease Dataset (via Kaggle).\n",
    "**File**: heart.csv\n",
    "**Size**: 303 patients × 14 attributes\n",
    "\n",
    "**Features:**\n",
    "\n",
    "age: age in years\n",
    "\n",
    "sex: 1 = male, 0 = female\n",
    "\n",
    "cp: chest pain type (0–3)\n",
    "\n",
    "trestbps: resting blood pressure (mm Hg)\n",
    "\n",
    "chol: serum cholesterol (mg/dl)\n",
    "\n",
    "fbs: fasting blood sugar > 120 mg/dl (1 = yes, 0 = no)\n",
    "\n",
    "restecg: resting electrocardiographic results\n",
    "\n",
    "thalach: maximum heart rate achieved\n",
    "\n",
    "exang: exercise-induced angina (1 = yes, 0 = no)\n",
    "\n",
    "oldpeak: ST depression induced by exercise relative to rest\n",
    "\n",
    "slope: slope of peak exercise ST segment\n",
    "\n",
    "ca: number of major vessels colored by fluoroscopy\n",
    "\n",
    "thal: thalassemia type\n",
    "\n",
    "target: 1 = heart disease present, 0 = absent (label)"
   ]
  },
  {
   "cell_type": "markdown",
   "id": "c51dd413",
   "metadata": {},
   "source": [
    "## Importing And Loading Data"
   ]
  },
  {
   "cell_type": "code",
   "execution_count": 1,
   "id": "8b52968e",
   "metadata": {},
   "outputs": [
    {
     "data": {
      "text/html": [
       "<div>\n",
       "<style scoped>\n",
       "    .dataframe tbody tr th:only-of-type {\n",
       "        vertical-align: middle;\n",
       "    }\n",
       "\n",
       "    .dataframe tbody tr th {\n",
       "        vertical-align: top;\n",
       "    }\n",
       "\n",
       "    .dataframe thead th {\n",
       "        text-align: right;\n",
       "    }\n",
       "</style>\n",
       "<table border=\"1\" class=\"dataframe\">\n",
       "  <thead>\n",
       "    <tr style=\"text-align: right;\">\n",
       "      <th></th>\n",
       "      <th>age</th>\n",
       "      <th>sex</th>\n",
       "      <th>cp</th>\n",
       "      <th>trestbps</th>\n",
       "      <th>chol</th>\n",
       "      <th>fbs</th>\n",
       "      <th>restecg</th>\n",
       "      <th>thalach</th>\n",
       "      <th>exang</th>\n",
       "      <th>oldpeak</th>\n",
       "      <th>slope</th>\n",
       "      <th>ca</th>\n",
       "      <th>thal</th>\n",
       "      <th>target</th>\n",
       "    </tr>\n",
       "  </thead>\n",
       "  <tbody>\n",
       "    <tr>\n",
       "      <th>0</th>\n",
       "      <td>52</td>\n",
       "      <td>1</td>\n",
       "      <td>0</td>\n",
       "      <td>125</td>\n",
       "      <td>212</td>\n",
       "      <td>0</td>\n",
       "      <td>1</td>\n",
       "      <td>168</td>\n",
       "      <td>0</td>\n",
       "      <td>1.0</td>\n",
       "      <td>2</td>\n",
       "      <td>2</td>\n",
       "      <td>3</td>\n",
       "      <td>0</td>\n",
       "    </tr>\n",
       "    <tr>\n",
       "      <th>1</th>\n",
       "      <td>53</td>\n",
       "      <td>1</td>\n",
       "      <td>0</td>\n",
       "      <td>140</td>\n",
       "      <td>203</td>\n",
       "      <td>1</td>\n",
       "      <td>0</td>\n",
       "      <td>155</td>\n",
       "      <td>1</td>\n",
       "      <td>3.1</td>\n",
       "      <td>0</td>\n",
       "      <td>0</td>\n",
       "      <td>3</td>\n",
       "      <td>0</td>\n",
       "    </tr>\n",
       "    <tr>\n",
       "      <th>2</th>\n",
       "      <td>70</td>\n",
       "      <td>1</td>\n",
       "      <td>0</td>\n",
       "      <td>145</td>\n",
       "      <td>174</td>\n",
       "      <td>0</td>\n",
       "      <td>1</td>\n",
       "      <td>125</td>\n",
       "      <td>1</td>\n",
       "      <td>2.6</td>\n",
       "      <td>0</td>\n",
       "      <td>0</td>\n",
       "      <td>3</td>\n",
       "      <td>0</td>\n",
       "    </tr>\n",
       "    <tr>\n",
       "      <th>3</th>\n",
       "      <td>61</td>\n",
       "      <td>1</td>\n",
       "      <td>0</td>\n",
       "      <td>148</td>\n",
       "      <td>203</td>\n",
       "      <td>0</td>\n",
       "      <td>1</td>\n",
       "      <td>161</td>\n",
       "      <td>0</td>\n",
       "      <td>0.0</td>\n",
       "      <td>2</td>\n",
       "      <td>1</td>\n",
       "      <td>3</td>\n",
       "      <td>0</td>\n",
       "    </tr>\n",
       "    <tr>\n",
       "      <th>4</th>\n",
       "      <td>62</td>\n",
       "      <td>0</td>\n",
       "      <td>0</td>\n",
       "      <td>138</td>\n",
       "      <td>294</td>\n",
       "      <td>1</td>\n",
       "      <td>1</td>\n",
       "      <td>106</td>\n",
       "      <td>0</td>\n",
       "      <td>1.9</td>\n",
       "      <td>1</td>\n",
       "      <td>3</td>\n",
       "      <td>2</td>\n",
       "      <td>0</td>\n",
       "    </tr>\n",
       "  </tbody>\n",
       "</table>\n",
       "</div>"
      ],
      "text/plain": [
       "   age  sex  cp  trestbps  chol  fbs  restecg  thalach  exang  oldpeak  slope  \\\n",
       "0   52    1   0       125   212    0        1      168      0      1.0      2   \n",
       "1   53    1   0       140   203    1        0      155      1      3.1      0   \n",
       "2   70    1   0       145   174    0        1      125      1      2.6      0   \n",
       "3   61    1   0       148   203    0        1      161      0      0.0      2   \n",
       "4   62    0   0       138   294    1        1      106      0      1.9      1   \n",
       "\n",
       "   ca  thal  target  \n",
       "0   2     3       0  \n",
       "1   0     3       0  \n",
       "2   0     3       0  \n",
       "3   1     3       0  \n",
       "4   3     2       0  "
      ]
     },
     "execution_count": 1,
     "metadata": {},
     "output_type": "execute_result"
    }
   ],
   "source": [
    "import pandas as pd\n",
    "import numpy as np\n",
    "import matplotlib.pyplot as plt\n",
    "import seaborn as sns\n",
    "\n",
    "from sklearn.model_selection import train_test_split, GridSearchCV\n",
    "from sklearn.preprocessing import StandardScaler\n",
    "from sklearn.linear_model import LogisticRegression\n",
    "from sklearn.ensemble import RandomForestClassifier\n",
    "from sklearn.neighbors import KNeighborsClassifier\n",
    "from sklearn.metrics import classification_report, confusion_matrix, roc_auc_score, RocCurveDisplay\n",
    "\n",
    "# Load data\n",
    "df = pd.read_csv('heart.csv')\n",
    "df.head()"
   ]
  },
  {
   "cell_type": "markdown",
   "id": "3d1e3414",
   "metadata": {},
   "source": [
    "## 3. Preprocessing"
   ]
  },
  {
   "cell_type": "markdown",
   "id": "cac558d7",
   "metadata": {},
   "source": [
    "**Steps taken before modeling:**\n",
    "\n",
    "**Missing Values** – None found.\n",
    "\n",
    "**Categorical Encoding** – One-hot encoded cp, restecg, slope, and thal.\n",
    "\n",
    "**Feature Scaling** – Standardized continuous features (age, trestbps, chol, thalach, oldpeak) for k-NN.\n",
    "\n",
    "**Train/Test Split** – Stratified 80/20 split to preserve the proportion of positive and negative cases."
   ]
  },
  {
   "cell_type": "markdown",
   "id": "ce5e9bca",
   "metadata": {},
   "source": [
    "## Reprocessing Steps"
   ]
  },
  {
   "cell_type": "code",
   "execution_count": 2,
   "id": "90880095",
   "metadata": {},
   "outputs": [],
   "source": [
    "# One-hot encoding\n",
    "df = pd.get_dummies(df, columns=[\"cp\",\"restecg\",\"slope\",\"thal\"], drop_first=True)\n",
    "\n",
    "# Split features/target\n",
    "X = df.drop(\"target\", axis=1)\n",
    "y = df[\"target\"]\n",
    "\n",
    "# Train/test split\n",
    "X_train, X_test, y_train, y_test = train_test_split(\n",
    "    X, y, test_size=0.2, stratify=y, random_state=42\n",
    ")\n",
    "\n",
    "# Scale continuous features for kNN\n",
    "scaler = StandardScaler()\n",
    "cont_features = [\"age\",\"trestbps\",\"chol\",\"thalach\",\"oldpeak\"]\n",
    "X_train[cont_features] = scaler.fit_transform(X_train[cont_features])\n",
    "X_test[cont_features] = scaler.transform(X_test[cont_features])"
   ]
  },
  {
   "cell_type": "markdown",
   "id": "d6ae461e",
   "metadata": {},
   "source": [
    "## 4. Exploratory Data Analysis\n",
    "\n",
    "Distribution of Target Variable"
   ]
  },
  {
   "cell_type": "code",
   "execution_count": 3,
   "id": "c47f89fb",
   "metadata": {},
   "outputs": [
    {
     "data": {
      "image/png": "[encoded data removed]",
      "text/plain": [
       "<Figure size 640x480 with 1 Axes>"
      ]
     },
     "metadata": {},
     "output_type": "display_data"
    }
   ],
   "source": [
    "sns.countplot(x=\"target\", data=df)\n",
    "plt.title(\"Distribution of Heart Disease Cases\")\n",
    "plt.show()"
   ]
  },
  {
   "cell_type": "markdown",
   "id": "c382742c",
   "metadata": {},
   "source": [
    "Box Plots"
   ]
  },
  {
   "cell_type": "code",
   "execution_count": 4,
   "id": "392a973b",
   "metadata": {},
   "outputs": [
    {
     "data": {
      "image/png": "[encoded data removed]",
      "text/plain": [
       "<Figure size 640x480 with 1 Axes>"
      ]
     },
     "metadata": {},
     "output_type": "display_data"
    }
   ],
   "source": [
    "sns.countplot(x=\"target\", data=df)\n",
    "plt.title(\"Distribution of Heart Disease Cases\")\n",
    "plt.show()"
   ]
  },
  {
   "cell_type": "markdown",
   "id": "186c8fdf",
   "metadata": {},
   "source": [
    "Correlation Heatmap"
   ]
  },
  {
   "cell_type": "code",
   "execution_count": 5,
   "id": "f8d17f38",
   "metadata": {},
   "outputs": [
    {
     "data": {
      "image/png": "[encoded data removed]",
      "text/plain": [
       "<Figure size 1000x800 with 2 Axes>"
      ]
     },
     "metadata": {},
     "output_type": "display_data"
    }
   ],
   "source": [
    "plt.figure(figsize=(10,8))\n",
    "sns.heatmap(df.corr(), cmap=\"coolwarm\", center=0)\n",
    "plt.title(\"Feature Correlation Heatmap\")\n",
    "plt.show()"
   ]
  },
  {
   "cell_type": "markdown",
   "id": "dbcaf986",
   "metadata": {},
   "source": [
    "## 5. Modeling\n",
    "\n",
    "Logistic Regression"
   ]
  },
  {
   "cell_type": "code",
   "execution_count": 10,
   "id": "c61bac74",
   "metadata": {},
   "outputs": [
    {
     "name": "stdout",
     "output_type": "stream",
     "text": [
      "Logistic Regression Report:\n",
      "               precision    recall  f1-score   support\n",
      "\n",
      "           0       0.90      0.78      0.83       100\n",
      "           1       0.81      0.91      0.86       105\n",
      "\n",
      "    accuracy                           0.85       205\n",
      "   macro avg       0.86      0.85      0.85       205\n",
      "weighted avg       0.85      0.85      0.85       205\n",
      "\n",
      "ROC-AUC: 0.9251428571428572\n"
     ]
    }
   ],
   "source": [
    "# Logistic Regression\n",
    "log_reg = LogisticRegression(max_iter=5000, random_state=42)\n",
    "log_reg.fit(X_train, y_train)\n",
    "y_pred_lr = log_reg.predict(X_test)\n",
    "print(\"Logistic Regression Report:\\n\", classification_report(y_test, y_pred_lr))\n",
    "print(\"ROC-AUC:\", roc_auc_score(y_test, log_reg.predict_proba(X_test)[:,1]))"
   ]
  },
  {
   "cell_type": "markdown",
   "id": "b9ecb057",
   "metadata": {},
   "source": [
    "Random Forest"
   ]
  },
  {
   "cell_type": "code",
   "execution_count": 11,
   "id": "9343eb63",
   "metadata": {},
   "outputs": [
    {
     "name": "stdout",
     "output_type": "stream",
     "text": [
      "Random Forest Report:\n",
      "               precision    recall  f1-score   support\n",
      "\n",
      "           0       1.00      1.00      1.00       100\n",
      "           1       1.00      1.00      1.00       105\n",
      "\n",
      "    accuracy                           1.00       205\n",
      "   macro avg       1.00      1.00      1.00       205\n",
      "weighted avg       1.00      1.00      1.00       205\n",
      "\n",
      "ROC-AUC: 1.0\n"
     ]
    }
   ],
   "source": [
    "# Random Forest\n",
    "rf = RandomForestClassifier(random_state=42)\n",
    "rf.fit(X_train, y_train)\n",
    "y_pred_rf = rf.predict(X_test)\n",
    "print(\"Random Forest Report:\\n\", classification_report(y_test, y_pred_rf))\n",
    "print(\"ROC-AUC:\", roc_auc_score(y_test, rf.predict_proba(X_test)[:,1]))"
   ]
  },
  {
   "cell_type": "markdown",
   "id": "95e01264",
   "metadata": {},
   "source": [
    "k-Nearest Neighbors (kNN)"
   ]
  },
  {
   "cell_type": "code",
   "execution_count": 12,
   "id": "f7e927b9",
   "metadata": {},
   "outputs": [
    {
     "name": "stdout",
     "output_type": "stream",
     "text": [
      "kNN Report:\n",
      "               precision    recall  f1-score   support\n",
      "\n",
      "           0       0.84      0.81      0.83       100\n",
      "           1       0.83      0.86      0.84       105\n",
      "\n",
      "    accuracy                           0.83       205\n",
      "   macro avg       0.83      0.83      0.83       205\n",
      "weighted avg       0.83      0.83      0.83       205\n",
      "\n",
      "ROC-AUC: 0.9470000000000001\n"
     ]
    }
   ],
   "source": [
    "# kNN\n",
    "knn = KNeighborsClassifier()\n",
    "knn.fit(X_train, y_train)\n",
    "y_pred_knn = knn.predict(X_test)\n",
    "print(\"kNN Report:\\n\", classification_report(y_test, y_pred_knn))\n",
    "print(\"ROC-AUC:\", roc_auc_score(y_test, knn.predict_proba(X_test)[:,1]))"
   ]
  },
  {
   "cell_type": "markdown",
   "id": "8b398d19",
   "metadata": {},
   "source": [
    "Hyperparameter Tuning"
   ]
  },
  {
   "cell_type": "code",
   "execution_count": 13,
   "id": "bca9ae5a",
   "metadata": {},
   "outputs": [
    {
     "name": "stdout",
     "output_type": "stream",
     "text": [
      "Best Params: {'max_depth': None, 'min_samples_split': 2, 'n_estimators': 100}\n"
     ]
    }
   ],
   "source": [
    "# Hyperparameter tuning for Random Forest\n",
    "param_grid = {\n",
    "    \"n_estimators\": [100,200,300],\n",
    "    \"max_depth\": [None,5,10],\n",
    "    \"min_samples_split\": [2,5,10]\n",
    "}\n",
    "grid_rf = GridSearchCV(RandomForestClassifier(random_state=42), param_grid,\n",
    "                       cv=5, scoring=\"f1\")\n",
    "grid_rf.fit(X_train, y_train)\n",
    "print(\"Best Params:\", grid_rf.best_params_)"
   ]
  },
  {
   "cell_type": "markdown",
   "id": "954a2afc",
   "metadata": {},
   "source": [
    "## 6. Results\n",
    "\n",
    "| Model | Accuracy | ROC-AUC | Key Notes |\n",
    "|-------|----------|---------|-----------|\n",
    "| Logistic Regression | $\\approx 84.9\\%$ | $\\approx 0.93$ | Interpretable baseline |\n",
    "| Random Forest | $100\\%$ | $1.00$ | Highest score; suggests potential data leakage or perfect separation on this split. |\n",
    "| k-NN | $\\approx 83.4\\%$ | $\\approx 0.95$ | Strong performance after feature scaling |"
   ]
  },
  {
   "cell_type": "code",
   "execution_count": null,
   "id": "0d63cf32",
   "metadata": {},
   "outputs": [],
   "source": [
    "\n",
    "sns.countplot(data=df, x=\"target\")\n",
    "plt.title(\"Distribution of Heart Disease (0 = No, 1 = Yes)\")\n",
    "plt.show()\n",
    "\n",
    "sns.boxplot(data=df, x=\"target\", y=\"oldpeak\")\n",
    "plt.title(\"ST Depression (oldpeak) vs Heart Disease\")\n",
    "plt.show()\n",
    "\n",
    "sns.boxplot(data=df, x=\"target\", y=\"thalach\")\n",
    "plt.title(\"Max Heart Rate vs Heart Disease\")\n",
    "plt.show()\n",
    "\n",
    "plt.figure(figsize=(10,8))\n",
    "sns.heatmap(df.corr(), annot=True, cmap=\"coolwarm\", fmt=\".2f\")\n",
    "plt.title(\"Correlation Heatmap\")\n",
    "plt.show()\n"
   ]
  },
  {
   "cell_type": "markdown",
   "id": "ce5999b2",
   "metadata": {},
   "source": [
    "## 7. Storytelling\n",
    "\n",
    "Exploratory analysis consistently showed that exercise-related indicators are the most powerful features for separating patients with heart disease from those without it. The model results confirm that these features, especially chest pain type (cp), maximum heart rate (thalach), and ST depression (oldpeak), provide nearly perfect information for classification.\n",
    "\n",
    "The Random Forest model’s 100% accuracy indicates that the combination of features present in this dataset allows for complete separation between the positive and negative classes in the test set.\n",
    "- The Predictive Power of Functional Metrics: The functional metrics related to heart performance under stress (thalach and oldpeak) are overwhelmingly stronger predictors than static, baseline values. Patients without heart disease consistently achieved a significantly higher maximum heart rate (thalach) and showed lower ST depression (oldpeak).\n",
    "- Weaker Predictors: Traditional risk factors like cholesterol (chol) and resting blood pressure (trestbps) were confirmed as weaker predictors for distinguishing the two groups in this particular dataset. Their relevance is likely long-term, but for an immediate diagnosis based on these features, functional capacity is the dominant factor.\n",
    "\n",
    "The challenge now shifts: the focus is no longer on whether a model can predict heart disease, but why this dataset allows for such perfect prediction and whether that performance is reproducible in a real-world, clinical setting.\n",
    "\n",
    "## 8. Impact\n",
    "\n",
    "The 100% accuracy achieved by the Random Forest model highlights the immense potential of machine learning, but it also compels a focus on the real-world reliability of the results. Before deployment, we must critically evaluate this perfect score.\n",
    "\n",
    "Critical Evaluation and Data Caution\n",
    "- Risk of Overfitting or Data Leakage: The extremely high performance strongly suggests that the model may have either overfit to the training data or, more critically, that one of the features is too closely related to the diagnosis (a form of data leakage). Future steps must involve rigorous cross-validation on external, unseen datasets to confirm the model's true generalization ability.\n",
    "- The Decision-Support Caveat: Assuming the high performance holds up, the model could provide powerful data-driven decision support. It can instantly flag high-risk patients based on their feature profile, allowing for rapid triage and immediate specialized follow-up, thereby optimizing scarce clinical resources.\n",
    "\n",
    "Ethical and Practical Impact\n",
    "- Enhanced Triage and Resource Prioritization: The model acts as a highly effective smart triaging mechanism. Patients flagged with near-certainty (high-confidence prediction) could be fast-tracked for life-saving diagnostics and interventions, while doctors gain time to focus on complex or ambiguous cases.\n",
    "- Patient Communication: The model's reliance on functional indicators helps shift the discussion toward actionable lifestyle changes. Explaining, \"Your heart's response to stress (thalach) indicates high risk,\" is more precise and motivating than generic warnings about cholesterol.\n",
    "- Ethical and Regulatory Compliance: Deployment hinges on navigating strict regulations like HIPAA and GDPR. Furthermore, due to the 100% confidence, the risk of automation bias (over-relying on the model) is very high. Physicians must be trained to view the prediction as evidence, not absolute fact, ensuring that human judgment remains the final arbiter of diagnosis.\n",
    "\n",
    "## 9. References\n",
    "\n",
    "https://www.kaggle.com/datasets/johnsmith88/heart-disease-dataset?resource=download\n"
   ]
  }
 ],
 "metadata": {
  "kernelspec": {
   "display_name": "Python 3",
   "language": "python",
   "name": "python3"
  },
  "language_info": {
   "codemirror_mode": {
    "name": "ipython",
    "version": 3
   },
   "file_extension": ".py",
   "mimetype": "text/x-python",
   "name": "python",
   "nbconvert_exporter": "python",
   "pygments_lexer": "ipython3",
   "version": "3.13.2"
  }
 },
 "nbformat": 4,
 "nbformat_minor": 5
}
